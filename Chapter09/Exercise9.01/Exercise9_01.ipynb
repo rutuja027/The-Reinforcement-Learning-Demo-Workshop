{
 "cells": [
  {
   "cell_type": "code",
   "execution_count": 1,
   "metadata": {},
   "outputs": [],
   "source": [
    "# Importing the required libraries\n",
    "import numpy as np\n",
    "import torch\n",
    "from torch import nn, optim"
   ]
  },
  {
   "cell_type": "code",
   "execution_count": 2,
   "metadata": {},
   "outputs": [],
   "source": [
    "#input data and converting to torch tensors\n",
    "inputs = np.array([[73, 67, 43],\n",
    "                   [91, 88, 64],\n",
    "                   [87, 134, 58],\n",
    "                   [102, 43, 37],\n",
    "                   [69, 96, 70]], dtype = 'float32')\n",
    "inputs = torch.from_numpy(inputs)\n",
    "\n",
    "#target data and converting to torch tensors\n",
    "targets = np.array([[366],\n",
    "                   [486],\n",
    "                   [558],\n",
    "                   [219],\n",
    "                   [470]], dtype = 'float32')\n",
    "targets = torch.from_numpy(targets)"
   ]
  },
  {
   "cell_type": "code",
   "execution_count": 3,
   "metadata": {},
   "outputs": [
    {
     "data": {
      "text/plain": [
       "(torch.Size([5, 3]), torch.Size([5, 1]))"
      ]
     },
     "execution_count": 3,
     "metadata": {},
     "output_type": "execute_result"
    }
   ],
   "source": [
    "#Checking the shapes\n",
    "inputs.shape , targets.shape"
   ]
  },
  {
   "cell_type": "code",
   "execution_count": 15,
   "metadata": {},
   "outputs": [],
   "source": [
    "class Model(nn.Module):\n",
    "    def __init__(self):\n",
    "        super().__init__()\n",
    "        self.fc1 = nn.Linear(3, 10)\n",
    "        self.fc2 = nn.Linear(10, 1)\n",
    "        \n",
    "    def forward(self, x): \n",
    "        \n",
    "        x = torch.relu(self.fc1(x))\n",
    "        x = self.fc2(x)\n",
    "        \n",
    "        return x"
   ]
  },
  {
   "cell_type": "code",
   "execution_count": 16,
   "metadata": {},
   "outputs": [],
   "source": [
    "# Instantiating the model\n",
    "model = Model()"
   ]
  },
  {
   "cell_type": "code",
   "execution_count": 17,
   "metadata": {},
   "outputs": [],
   "source": [
    "# Loss function and optimizer\n",
    "criterion = nn.MSELoss()  \n",
    "optimizer = torch.optim.Adam(model.parameters(), lr=0.01)"
   ]
  },
  {
   "cell_type": "code",
   "execution_count": 18,
   "metadata": {},
   "outputs": [
    {
     "name": "stdout",
     "output_type": "stream",
     "text": [
      "Epoch 1/20, Loss: 185159.9688\n",
      "Epoch 2/20, Loss: 181442.8125\n",
      "Epoch 3/20, Loss: 177829.2188\n",
      "Epoch 4/20, Loss: 174210.5938\n",
      "Epoch 5/20, Loss: 170534.4375\n",
      "Epoch 6/20, Loss: 166843.9531\n",
      "Epoch 7/20, Loss: 163183.2500\n",
      "Epoch 8/20, Loss: 159532.0625\n",
      "Epoch 9/20, Loss: 155861.8438\n",
      "Epoch 10/20, Loss: 152173.0000\n",
      "Epoch 11/20, Loss: 148414.5781\n",
      "Epoch 12/20, Loss: 144569.6875\n",
      "Epoch 13/20, Loss: 140625.1094\n",
      "Epoch 14/20, Loss: 136583.0625\n",
      "Epoch 15/20, Loss: 132446.6719\n",
      "Epoch 16/20, Loss: 128219.9688\n",
      "Epoch 17/20, Loss: 123907.7422\n",
      "Epoch 18/20, Loss: 119515.7266\n",
      "Epoch 19/20, Loss: 115050.4375\n",
      "Epoch 20/20, Loss: 110519.2969\n"
     ]
    }
   ],
   "source": [
    "# Train the model\n",
    "n_epochs = 20\n",
    "for it in range(n_epochs):\n",
    "    # zero the parameter gradients\n",
    "    optimizer.zero_grad()\n",
    "\n",
    "    # Forward pass\n",
    "    outputs = model(inputs)\n",
    "    loss = criterion(outputs, targets)\n",
    "\n",
    "\n",
    "    # Backward and optimize\n",
    "    loss.backward()\n",
    "    optimizer.step()\n",
    "\n",
    "    print(f'Epoch {it+1}/{n_epochs}, Loss: {loss.item():.4f}')"
   ]
  },
  {
   "cell_type": "code",
   "execution_count": 21,
   "metadata": {},
   "outputs": [
    {
     "name": "stdout",
     "output_type": "stream",
     "text": [
      "tensor([[ 85.6779],\n",
      "        [115.3034],\n",
      "        [146.7106],\n",
      "        [ 69.4034],\n",
      "        [120.5457]], grad_fn=<AddmmBackward>)\n"
     ]
    }
   ],
   "source": [
    "# Prediction using the trained model\n",
    "preds = model(inputs)\n",
    "print(preds)"
   ]
  },
  {
   "cell_type": "code",
   "execution_count": null,
   "metadata": {},
   "outputs": [],
   "source": []
  }
 ],
 "metadata": {
  "kernelspec": {
   "display_name": "Python 3",
   "language": "python",
   "name": "python3"
  },
  "language_info": {
   "codemirror_mode": {
    "name": "ipython",
    "version": 3
   },
   "file_extension": ".py",
   "mimetype": "text/x-python",
   "name": "python",
   "nbconvert_exporter": "python",
   "pygments_lexer": "ipython3",
   "version": "3.7.4"
  }
 },
 "nbformat": 4,
 "nbformat_minor": 2
}
