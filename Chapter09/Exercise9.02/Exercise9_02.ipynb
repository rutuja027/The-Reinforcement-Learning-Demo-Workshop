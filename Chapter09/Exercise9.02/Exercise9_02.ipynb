{
 "cells": [
  {
   "cell_type": "code",
   "execution_count": 1,
   "metadata": {},
   "outputs": [],
   "source": [
    "# Importing the required libraries\n",
    "import gym\n",
    "import numpy as np\n",
    "import matplotlib.pyplot as plt"
   ]
  },
  {
   "cell_type": "code",
   "execution_count": 2,
   "metadata": {},
   "outputs": [],
   "source": [
    "# Creating the Gym environment with FrozenLake-v0 for stochastic environment\n",
    "env = gym.make('FrozenLake-v0')"
   ]
  },
  {
   "cell_type": "code",
   "execution_count": 3,
   "metadata": {},
   "outputs": [],
   "source": [
    "# Fetching the number of states and actions\n",
    "number_of_states = env.observation_space.n\n",
    "number_of_actions = env.action_space.n"
   ]
  },
  {
   "cell_type": "code",
   "execution_count": 4,
   "metadata": {},
   "outputs": [
    {
     "name": "stdout",
     "output_type": "stream",
     "text": [
      "Total number of States : 16\n",
      "Total number of Actions : 4\n"
     ]
    }
   ],
   "source": [
    "# checking the total number of states and action\n",
    "print('Total number of States : {}'.format(number_of_states)) \n",
    "print('Total number of Actions : {}'.format(number_of_actions))"
   ]
  },
  {
   "cell_type": "code",
   "execution_count": 5,
   "metadata": {},
   "outputs": [],
   "source": [
    "# Creation of Q table\n",
    "Q_TABLE = np.zeros([number_of_states, number_of_actions])"
   ]
  },
  {
   "cell_type": "code",
   "execution_count": 6,
   "metadata": {},
   "outputs": [
    {
     "name": "stdout",
     "output_type": "stream",
     "text": [
      "[[0. 0. 0. 0.]\n",
      " [0. 0. 0. 0.]\n",
      " [0. 0. 0. 0.]\n",
      " [0. 0. 0. 0.]\n",
      " [0. 0. 0. 0.]\n",
      " [0. 0. 0. 0.]\n",
      " [0. 0. 0. 0.]\n",
      " [0. 0. 0. 0.]\n",
      " [0. 0. 0. 0.]\n",
      " [0. 0. 0. 0.]\n",
      " [0. 0. 0. 0.]\n",
      " [0. 0. 0. 0.]\n",
      " [0. 0. 0. 0.]\n",
      " [0. 0. 0. 0.]\n",
      " [0. 0. 0. 0.]\n",
      " [0. 0. 0. 0.]]\n",
      "shape of Q table : (16, 4)\n"
     ]
    }
   ],
   "source": [
    "# Looking at the initial values Q table\n",
    "print(Q_TABLE)\n",
    "print('shape of Q table : {}'.format(Q_TABLE.shape))"
   ]
  },
  {
   "cell_type": "code",
   "execution_count": 7,
   "metadata": {},
   "outputs": [],
   "source": [
    "# Setting the Hyper parameter Values for Q Learning\n",
    "\n",
    "NUMBER_OF_EPISODES = 10000\n",
    "MAX_STEPS = 100 \n",
    "LEARNING_RATE = 0.1\n",
    "DISCOUNT_FACTOR = 0.99\n",
    "\n",
    "EGREEDY = 1\n",
    "MAX_EGREEDY = 1\n",
    "MIN_EGREEDY = 0.01\n",
    "EGREEDY_DECAY_RATE = 0.001"
   ]
  },
  {
   "cell_type": "code",
   "execution_count": 8,
   "metadata": {},
   "outputs": [],
   "source": [
    "# Creating empty lists to store rewards of all episodes\n",
    "rewards_all_episodes = []\n",
    "# Creating empty lists to store egeedy_values of all episodes\n",
    "egreedy_values = []"
   ]
  },
  {
   "cell_type": "code",
   "execution_count": 9,
   "metadata": {},
   "outputs": [],
   "source": [
    "for episode in range(NUMBER_OF_EPISODES):\n",
    "    \n",
    "    state = env.reset()\n",
    "    done = False\n",
    "\n",
    "    current_episode_rewards = 0\n",
    "\n",
    "    for step in range(MAX_STEPS):\n",
    "     \n",
    "        random_for_egreedy = np.random.rand()\n",
    "        \n",
    "        if random_for_egreedy > EGREEDY:      \n",
    "            action = np.argmax(Q_TABLE[state,:])\n",
    "        else:\n",
    "            action = env.action_space.sample()\n",
    "            \n",
    "        new_state, reward, done, info = env.step(action)\n",
    "\n",
    "        Q_TABLE[state, action] = (1 - LEARNING_RATE) * Q_TABLE[state, action] \\\n",
    "            + LEARNING_RATE * (reward + DISCOUNT_FACTOR * np.max(Q_TABLE[new_state,:]))\n",
    "        \n",
    "        state = new_state\n",
    "        current_episode_rewards += reward\n",
    "\n",
    "        if done:\n",
    "            break\n",
    "    egreedy_values.append(EGREEDY)\n",
    "\n",
    "    EGREEDY = MIN_EGREEDY + \\\n",
    "        (MAX_EGREEDY - MIN_EGREEDY) * np.exp(-EGREEDY_DECAY_RATE*episode)\n",
    "    \n",
    "    rewards_all_episodes.append(current_episode_rewards)"
   ]
  },
  {
   "cell_type": "code",
   "execution_count": 10,
   "metadata": {},
   "outputs": [],
   "source": [
    "def rewards_split(rewards_all_episodes , total_episodes , split):\n",
    "    \"\"\"\n",
    "    Objective:\n",
    "    To split and caculate average reward or percentage of completed rewards per splits\n",
    "    inputs: \n",
    "    rewards_all_episodes - all the per episode rewards\n",
    "    total_episodes - total of episodes\n",
    "    split - number of splits on which we will check the reward\n",
    "    returns:\n",
    "    average reward of percentage of completed rewards per splits\n",
    "    \"\"\"\n",
    "    splitted = np.split(np.array(rewards_all_episodes),total_episodes/split)\n",
    "    avg_reward_per_splits = []\n",
    "    for rewards in splitted:\n",
    "        avg_reward_per_splits.append(sum(rewards)/split)\n",
    "    return avg_reward_per_splits"
   ]
  },
  {
   "cell_type": "code",
   "execution_count": 11,
   "metadata": {},
   "outputs": [],
   "source": [
    "avg_reward_per_splits = rewards_split(rewards_all_episodes , NUMBER_OF_EPISODES , 1000)"
   ]
  },
  {
   "cell_type": "code",
   "execution_count": 12,
   "metadata": {},
   "outputs": [
    {
     "data": {
      "image/png": "[encoded data removed]",
      "text/plain": [
       "<Figure size 864x360 with 1 Axes>"
      ]
     },
     "metadata": {
      "needs_background": "light"
     },
     "output_type": "display_data"
    }
   ],
   "source": [
    "plt.figure(figsize=(12,5))\n",
    "plt.title(\"% of Episodes completed\")\n",
    "plt.plot(np.arange(len(avg_reward_per_splits)), avg_reward_per_splits, 'o-')\n",
    "plt.show()"
   ]
  },
  {
   "cell_type": "code",
   "execution_count": 13,
   "metadata": {},
   "outputs": [
    {
     "data": {
      "image/png": "[encoded data removed]",
      "text/plain": [
       "<Figure size 864x360 with 1 Axes>"
      ]
     },
     "metadata": {
      "needs_background": "light"
     },
     "output_type": "display_data"
    }
   ],
   "source": [
    "plt.figure(figsize=(12,5))\n",
    "plt.title(\"Egreedy value\")\n",
    "plt.bar(np.arange(len(egreedy_values)), egreedy_values, alpha=0.6, color='blue', width=5)\n",
    "plt.show()"
   ]
  }
 ],
 "metadata": {
  "kernelspec": {
   "display_name": "Python 3",
   "language": "python",
   "name": "python3"
  },
  "language_info": {
   "codemirror_mode": {
    "name": "ipython",
    "version": 3
   },
   "file_extension": ".py",
   "mimetype": "text/x-python",
   "name": "python",
   "nbconvert_exporter": "python",
   "pygments_lexer": "ipython3",
   "version": "3.7.4"
  }
 },
 "nbformat": 4,
 "nbformat_minor": 2
}
