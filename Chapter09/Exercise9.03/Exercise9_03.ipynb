{
 "cells": [
  {
   "cell_type": "code",
   "execution_count": 1,
   "metadata": {
    "colab": {},
    "colab_type": "code",
    "id": "BFoxm3_OxKRO"
   },
   "outputs": [],
   "source": [
    "# Importing the required library\n",
    "import gym\n",
    "import matplotlib.pyplot as plt\n",
    "import torch\n",
    "import torch.nn as nn\n",
    "from torch import optim\n",
    "import numpy as np\n",
    "import math"
   ]
  },
  {
   "cell_type": "code",
   "execution_count": 2,
   "metadata": {
    "colab": {
     "base_uri": "https://localhost:8080/",
     "height": 36
    },
    "colab_type": "code",
    "executionInfo": {
     "elapsed": 2111,
     "status": "ok",
     "timestamp": 1586804976815,
     "user": {
      "displayName": "Aritra Sen",
      "photoUrl": "https://lh3.googleusercontent.com/a-/AOh14GiSYFenYhgXJH87pjUx-NhoqI30ZP-OIGh4O5vjpQ=s64",
      "userId": "13202125398367881278"
     },
     "user_tz": -330
    },
    "id": "ddgEhZNYxKRl",
    "outputId": "bbfd9cac-d36b-49af-ee07-3b6b44b40524"
   },
   "outputs": [
    {
     "name": "stdout",
     "output_type": "stream",
     "text": [
      "cpu\n"
     ]
    }
   ],
   "source": [
    "# selecting the available device (cpu/gpu)\n",
    "\n",
    "use_cuda = torch.cuda.is_available()\n",
    "\n",
    "device = torch.device(\"cuda:0\" if use_cuda else \"cpu\")\n",
    "\n",
    "print(device)"
   ]
  },
  {
   "cell_type": "code",
   "execution_count": 3,
   "metadata": {
    "colab": {},
    "colab_type": "code",
    "id": "UxfJluTJ43-Z"
   },
   "outputs": [],
   "source": [
    "env = gym.make('CartPole-v0')"
   ]
  },
  {
   "cell_type": "code",
   "execution_count": 4,
   "metadata": {
    "colab": {
     "base_uri": "https://localhost:8080/",
     "height": 36
    },
    "colab_type": "code",
    "executionInfo": {
     "elapsed": 2025,
     "status": "ok",
     "timestamp": 1586804976820,
     "user": {
      "displayName": "Aritra Sen",
      "photoUrl": "https://lh3.googleusercontent.com/a-/AOh14GiSYFenYhgXJH87pjUx-NhoqI30ZP-OIGh4O5vjpQ=s64",
      "userId": "13202125398367881278"
     },
     "user_tz": -330
    },
    "id": "QqdD4KbWxKSL",
    "outputId": "fc19f097-3549-41ed-e174-145a235dd7a7"
   },
   "outputs": [
    {
     "data": {
      "text/plain": [
       "<torch._C.Generator at 0x211eb06b9f0>"
      ]
     },
     "execution_count": 4,
     "metadata": {},
     "output_type": "execute_result"
    }
   ],
   "source": [
    "# setting the seed value for reproducability\n",
    "seed = 100\n",
    "env.seed(seed)\n",
    "torch.manual_seed(seed)"
   ]
  },
  {
   "cell_type": "code",
   "execution_count": 5,
   "metadata": {
    "colab": {},
    "colab_type": "code",
    "id": "bC1OneM6xKS6"
   },
   "outputs": [],
   "source": [
    "# Setting the Hyper parameter Values for Q Learning\n",
    "\n",
    "NUMBER_OF_EPISODES = 700\n",
    "MAX_STEPS = 1000\n",
    "LEARNING_RATE = 0.01\n",
    "DISCOUNT_FACTOR = 0.99\n",
    "HIDDEN_LAYER_SIZE = 64\n",
    "\n",
    "EGREEDY = 0.9\n",
    "EGREEDY_FINAL = 0.02\n",
    "EGREEDY_DECAY = 500"
   ]
  },
  {
   "cell_type": "code",
   "execution_count": 6,
   "metadata": {
    "colab": {},
    "colab_type": "code",
    "id": "39fgzZ1L1MYk"
   },
   "outputs": [],
   "source": [
    "def calculate_epsilon(steps_done):\n",
    "    \"\"\"\n",
    "    Decays eplison with increasing steps\n",
    "    Parameter:\n",
    "    steps_done (int) : number of steps completed\n",
    "    Returns:\n",
    "    int - decayed epsilon\n",
    "    \"\"\"\n",
    "    epsilon = EGREEDY_FINAL + (EGREEDY - EGREEDY_FINAL) * \\\n",
    "              math.exp(-1. * steps_done / EGREEDY_DECAY )\n",
    "    return epsilon"
   ]
  },
  {
   "cell_type": "code",
   "execution_count": 7,
   "metadata": {
    "colab": {
     "base_uri": "https://localhost:8080/",
     "height": 54
    },
    "colab_type": "code",
    "executionInfo": {
     "elapsed": 1853,
     "status": "ok",
     "timestamp": 1586804976831,
     "user": {
      "displayName": "Aritra Sen",
      "photoUrl": "https://lh3.googleusercontent.com/a-/AOh14GiSYFenYhgXJH87pjUx-NhoqI30ZP-OIGh4O5vjpQ=s64",
      "userId": "13202125398367881278"
     },
     "user_tz": -330
    },
    "id": "GpeJS9aeNJ8d",
    "outputId": "79d69a5d-0fe6-40e9-d7be-9cdca351a71d"
   },
   "outputs": [
    {
     "name": "stdout",
     "output_type": "stream",
     "text": [
      "Total number of States : 4\n",
      "Total number of Actions : 2\n"
     ]
    }
   ],
   "source": [
    "# Fetching the number of states and actions\n",
    "number_of_states = env.observation_space.shape[0]\n",
    "number_of_actions = env.action_space.n\n",
    "# checking the total number of states and action\n",
    "print('Total number of States : {}'.format(number_of_states)) \n",
    "print('Total number of Actions : {}'.format(number_of_actions))"
   ]
  },
  {
   "cell_type": "code",
   "execution_count": 8,
   "metadata": {
    "colab": {},
    "colab_type": "code",
    "id": "B87qP9H5NSq8"
   },
   "outputs": [],
   "source": [
    "# Deep Q Network Model Archietecture\n",
    "\n",
    "class DQN(nn.Module):\n",
    "    def __init__(self , hidden_layer_size):\n",
    "        super().__init__()\n",
    "        self.hidden_layer_size = hidden_layer_size\n",
    "        self.fc1 = nn.Linear(number_of_states,self.hidden_layer_size)\n",
    "        self.fc2 = nn.Linear(self.hidden_layer_size,number_of_actions)\n",
    "\n",
    "    def forward(self, x):\n",
    "        output = torch.tanh(self.fc1(x))\n",
    "        output = self.fc2(output)\n",
    "        return output"
   ]
  },
  {
   "cell_type": "code",
   "execution_count": 9,
   "metadata": {
    "colab": {},
    "colab_type": "code",
    "id": "_1ZgnDnvN5VK"
   },
   "outputs": [],
   "source": [
    "# Building the brain of the network i.e. the DQN Agent\n",
    "\n",
    "class DQN_Agent(object):\n",
    "    def __init__(self):\n",
    "        self.dqn = DQN(HIDDEN_LAYER_SIZE).to(device)\n",
    "    \n",
    "        self.criterion = torch.nn.MSELoss()\n",
    "    \n",
    "        self.optimizer = optim.Adam(params=self.dqn.parameters() , lr=LEARNING_RATE)\n",
    "    def select_action(self,state,EGREEDY):\n",
    "        random_for_egreedy = torch.rand(1)[0]\n",
    "    \n",
    "        if random_for_egreedy > EGREEDY:\n",
    "            with torch.no_grad():\n",
    "                state = torch.Tensor(state).to(device)\n",
    "                q_values = self.dqn(state)\n",
    "                action = torch.max(q_values,0)[1]\n",
    "                action = action.item()        \n",
    "        else:\n",
    "            action = env.action_space.sample()\n",
    "    \n",
    "        return action\n",
    "  \n",
    "    def optimize(self, state, action, new_state, reward, done):\n",
    "        state = torch.Tensor(state).to(device)\n",
    "        new_state = torch.Tensor(new_state).to(device)\n",
    "    \n",
    "        reward = torch.Tensor([reward]).to(device)\n",
    "    \n",
    "        if done:\n",
    "            target_value = reward\n",
    "        else:\n",
    "            new_state_values = self.dqn(new_state).detach()\n",
    "            max_new_state_values = torch.max(new_state_values)\n",
    "            target_value = reward + DISCOUNT_FACTOR * max_new_state_values\n",
    "\n",
    "        predicted_value = self.dqn(state)[action].view(-1)\n",
    "\n",
    "        loss = self.criterion(predicted_value, target_value)\n",
    "\n",
    "        self.optimizer.zero_grad()\n",
    "        loss.backward()\n",
    "        self.optimizer.step()"
   ]
  },
  {
   "cell_type": "code",
   "execution_count": 10,
   "metadata": {
    "colab": {},
    "colab_type": "code",
    "id": "jdwqxgaSOAQa"
   },
   "outputs": [],
   "source": [
    "# Instantiating the DQN Agent\n",
    "dqn_agent = DQN_Agent()"
   ]
  },
  {
   "cell_type": "code",
   "execution_count": 11,
   "metadata": {
    "colab": {},
    "colab_type": "code",
    "id": "PnNXvsiIOFC2"
   },
   "outputs": [],
   "source": [
    "steps_total = []\n",
    "steps_counter = 0\n",
    "for episode in range(NUMBER_OF_EPISODES):\n",
    "    \n",
    "    state = env.reset()\n",
    "    done = False\n",
    "    step = 0\n",
    "\n",
    "    for i in range(MAX_STEPS):\n",
    "        step += 1\n",
    "        steps_counter += 1\n",
    "      \n",
    "        EGREEDY = calculate_epsilon(steps_counter)\n",
    "\n",
    "        action = dqn_agent.select_action(state, EGREEDY)\n",
    "          \n",
    "        new_state, reward, done, info = env.step(action)\n",
    "\n",
    "        dqn_agent.optimize(state, action, new_state, reward, done)\n",
    "      \n",
    "        state = new_state\n",
    "\n",
    "        if done:\n",
    "            steps_total.append(step)\n",
    "            break"
   ]
  },
  {
   "cell_type": "code",
   "execution_count": 12,
   "metadata": {
    "colab": {
     "base_uri": "https://localhost:8080/",
     "height": 129
    },
    "colab_type": "code",
    "executionInfo": {
     "elapsed": 3218,
     "status": "ok",
     "timestamp": 1586805206831,
     "user": {
      "displayName": "Aritra Sen",
      "photoUrl": "https://lh3.googleusercontent.com/a-/AOh14GiSYFenYhgXJH87pjUx-NhoqI30ZP-OIGh4O5vjpQ=s64",
      "userId": "13202125398367881278"
     },
     "user_tz": -330
    },
    "id": "dGcYQiaTPE8n",
    "outputId": "2fae72e9-16f6-4ef3-f606-4f6e6b90f2cf"
   },
   "outputs": [
    {
     "name": "stdout",
     "output_type": "stream",
     "text": [
      "Average reward: 158.83\n",
      "Average reward (last 100 episodes): 176.28\n"
     ]
    }
   ],
   "source": [
    "print(\"Average reward: %.2f\" % (sum(steps_total)/NUMBER_OF_EPISODES))\n",
    "print(\"Average reward (last 100 episodes): %.2f\" % (sum(steps_total[-100:])/100))"
   ]
  },
  {
   "cell_type": "code",
   "execution_count": 15,
   "metadata": {},
   "outputs": [
    {
     "data": {
      "image/png": "[encoded data removed]",
      "text/plain": [
       "<Figure size 864x360 with 1 Axes>"
      ]
     },
     "metadata": {
      "needs_background": "light"
     },
     "output_type": "display_data"
    }
   ],
   "source": [
    "plt.figure(figsize=(12,5))\n",
    "plt.title(\"Rewards Collected\")\n",
    "plt.bar(np.arange(len(steps_total)), steps_total, alpha=0.5, color='green', width=6)\n",
    "plt.show()"
   ]
  }
 ],
 "metadata": {
  "accelerator": "GPU",
  "colab": {
   "collapsed_sections": [],
   "name": "DQN_Getting_Started.ipynb",
   "provenance": []
  },
  "kernelspec": {
   "display_name": "Python 3",
   "language": "python",
   "name": "python3"
  },
  "language_info": {
   "codemirror_mode": {
    "name": "ipython",
    "version": 3
   },
   "file_extension": ".py",
   "mimetype": "text/x-python",
   "name": "python",
   "nbconvert_exporter": "python",
   "pygments_lexer": "ipython3",
   "version": "3.7.3"
  }
 },
 "nbformat": 4,
 "nbformat_minor": 1
}
