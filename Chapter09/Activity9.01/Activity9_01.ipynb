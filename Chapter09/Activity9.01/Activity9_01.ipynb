{
 "cells": [
  {
   "cell_type": "code",
   "execution_count": 1,
   "metadata": {
    "colab": {},
    "colab_type": "code",
    "id": "CW6TGEyznNqu"
   },
   "outputs": [],
   "source": [
    "# Importing the required library\n",
    "import gym\n",
    "import matplotlib.pyplot as plt\n",
    "import torch\n",
    "import torch.nn as nn\n",
    "from torch import optim\n",
    "import numpy as np\n",
    "import random\n",
    "import math"
   ]
  },
  {
   "cell_type": "code",
   "execution_count": 2,
   "metadata": {
    "colab": {
     "base_uri": "https://localhost:8080/",
     "height": 35
    },
    "colab_type": "code",
    "executionInfo": {
     "elapsed": 5052,
     "status": "ok",
     "timestamp": 1586934273584,
     "user": {
      "displayName": "Aritra Sen",
      "photoUrl": "https://lh3.googleusercontent.com/a-/AOh14GiSYFenYhgXJH87pjUx-NhoqI30ZP-OIGh4O5vjpQ=s64",
      "userId": "13202125398367881278"
     },
     "user_tz": -330
    },
    "id": "4WvcVL8VnNrQ",
    "outputId": "64eee3ac-d95f-4645-eee5-ffe9d8f13eea"
   },
   "outputs": [
    {
     "name": "stdout",
     "output_type": "stream",
     "text": [
      "cpu\n"
     ]
    }
   ],
   "source": [
    "# selecting the available device (cpu/gpu)\n",
    "\n",
    "use_cuda = torch.cuda.is_available()\n",
    "\n",
    "device = torch.device(\"cuda:0\" if use_cuda else \"cpu\")\n",
    "\n",
    "print(device)"
   ]
  },
  {
   "cell_type": "code",
   "execution_count": 3,
   "metadata": {
    "colab": {},
    "colab_type": "code",
    "id": "ZWZft9z6nNrm"
   },
   "outputs": [],
   "source": [
    "# Creating the CartPole-v0 environment\n",
    "\n",
    "env = gym.make('CartPole-v0')"
   ]
  },
  {
   "cell_type": "code",
   "execution_count": 4,
   "metadata": {
    "colab": {},
    "colab_type": "code",
    "id": "Y2v8unZtnNrz"
   },
   "outputs": [],
   "source": [
    "# setting the seed value for reproducibility\n",
    "\n",
    "seed = 100\n",
    "env.seed(seed)\n",
    "torch.manual_seed(seed)\n",
    "random.seed(seed)"
   ]
  },
  {
   "cell_type": "code",
   "execution_count": 5,
   "metadata": {
    "colab": {
     "base_uri": "https://localhost:8080/",
     "height": 52
    },
    "colab_type": "code",
    "executionInfo": {
     "elapsed": 6627,
     "status": "ok",
     "timestamp": 1586934275172,
     "user": {
      "displayName": "Aritra Sen",
      "photoUrl": "https://lh3.googleusercontent.com/a-/AOh14GiSYFenYhgXJH87pjUx-NhoqI30ZP-OIGh4O5vjpQ=s64",
      "userId": "13202125398367881278"
     },
     "user_tz": -330
    },
    "id": "79XQqTKSnNr8",
    "outputId": "f0ef9d80-1b41-4ba6-ff58-2c3e214d8629"
   },
   "outputs": [
    {
     "name": "stdout",
     "output_type": "stream",
     "text": [
      "Total number of States : 4\n",
      "Total number of Actions : 2\n"
     ]
    }
   ],
   "source": [
    "# Fetching the number of states and actions\n",
    "#number_of_states = env.observation_space.n\n",
    "number_of_states = env.observation_space.shape[0]\n",
    "number_of_actions = env.action_space.n\n",
    "# checking the total number of states and action\n",
    "print('Total number of States : {}'.format(number_of_states)) \n",
    "print('Total number of Actions : {}'.format(number_of_actions))"
   ]
  },
  {
   "cell_type": "code",
   "execution_count": 6,
   "metadata": {
    "colab": {},
    "colab_type": "code",
    "id": "szLMi9vUnNsF"
   },
   "outputs": [],
   "source": [
    "# Setting the Hyper parameter Values for Q Learning\n",
    "\n",
    "NUMBER_OF_EPISODES = 500\n",
    "MAX_STEPS = 1000\n",
    "LEARNING_RATE = 0.01\n",
    "DISCOUNT_FACTOR = 0.99\n",
    "HIDDEN_LAYER_SIZE = 64\n",
    "\n",
    "EGREEDY = 0.9\n",
    "EGREEDY_FINAL = 0.02\n",
    "EGREEDY_DECAY = 500\n",
    "\n",
    "REPLAY_BUFFER_SIZE = 6000\n",
    "BATCH_SIZE = 32\n",
    "\n",
    "UPDATE_TARGET_FREQUENCY = 100"
   ]
  },
  {
   "cell_type": "code",
   "execution_count": 7,
   "metadata": {
    "colab": {},
    "colab_type": "code",
    "id": "Y8EJlCeVnNsM"
   },
   "outputs": [],
   "source": [
    "def calculate_epsilon(steps_done):\n",
    "    \"\"\"\n",
    "    Decays eplison with increasing steps\n",
    "    Parameter:\n",
    "    steps_done (int) : number of steps completed\n",
    "    Returns:\n",
    "    int - decayed epsilon\n",
    "    \"\"\"\n",
    "    epsilon = EGREEDY_FINAL + (EGREEDY - EGREEDY_FINAL) * \\\n",
    "              math.exp(-1. * steps_done / EGREEDY_DECAY )\n",
    "    return epsilon"
   ]
  },
  {
   "cell_type": "code",
   "execution_count": 8,
   "metadata": {
    "colab": {},
    "colab_type": "code",
    "id": "CqEC_YRRnNsS"
   },
   "outputs": [],
   "source": [
    "# Deep Q Network Model Architecture\n",
    "\n",
    "class DQN(nn.Module):\n",
    "    def __init__(self , hidden_layer_size):\n",
    "        super().__init__()\n",
    "        self.hidden_layer_size = hidden_layer_size\n",
    "        self.fc1 = nn.Linear(number_of_states,self.hidden_layer_size)\n",
    "        self.fc2 = nn.Linear(self.hidden_layer_size,number_of_actions)\n",
    "\n",
    "    def forward(self, x):\n",
    "        output = torch.tanh(self.fc1(x))\n",
    "        output = self.fc2(output)\n",
    "        return output"
   ]
  },
  {
   "cell_type": "code",
   "execution_count": 9,
   "metadata": {
    "colab": {},
    "colab_type": "code",
    "id": "RLrMhP3UnNsW"
   },
   "outputs": [],
   "source": [
    "class ExperienceReplay(object):\n",
    "    def __init__(self , capacity):\n",
    "        \n",
    "        self.capacity = capacity\n",
    "        self.buffer = []\n",
    "        self.pointer = 0\n",
    "    \n",
    "    def push(self , state, action, new_state, reward, done):\n",
    "        experience = (state, action, new_state, reward, done)\n",
    "        \n",
    "        if self.pointer >= len(self.buffer):\n",
    "            self.buffer.append(experience)\n",
    "        else:\n",
    "            self.buffer[self.pointer] = experience\n",
    "        \n",
    "        self.pointer = (self.pointer + 1) % self.capacity\n",
    "        \n",
    "    def sample(self , batch_size):\n",
    "        return zip(*random.sample(self.buffer , batch_size))\n",
    "    \n",
    "    def __len__(self):\n",
    "        return len(self.buffer)    "
   ]
  },
  {
   "cell_type": "code",
   "execution_count": 10,
   "metadata": {
    "colab": {},
    "colab_type": "code",
    "id": "DoqCEYxnnNsc"
   },
   "outputs": [],
   "source": [
    "# Instantiating the ExperienceReplay\n",
    "memory = ExperienceReplay(REPLAY_BUFFER_SIZE)"
   ]
  },
  {
   "cell_type": "code",
   "execution_count": 11,
   "metadata": {
    "colab": {},
    "colab_type": "code",
    "id": "ZO2ic3VVnNsi"
   },
   "outputs": [],
   "source": [
    "# Building the brain of the network i.e. the DQN Agent\n",
    "\n",
    "class DQN_Agent(object):\n",
    "    def __init__(self):\n",
    "        \n",
    "        self.dqn = DQN(HIDDEN_LAYER_SIZE).to(device)\n",
    "        self.target_dqn = DQN(HIDDEN_LAYER_SIZE).to(device)\n",
    "        \n",
    "        self.criterion = torch.nn.MSELoss()\n",
    "        \n",
    "        self.optimizer = optim.Adam(params=self.dqn.parameters() , lr=LEARNING_RATE)\n",
    "        \n",
    "        self.target_dqn_update_counter = 0\n",
    "    \n",
    "    def select_action(self,state,EGREEDY):\n",
    "        \n",
    "        random_for_egreedy = torch.rand(1)[0]\n",
    "        \n",
    "        if random_for_egreedy > EGREEDY:      \n",
    "            \n",
    "            with torch.no_grad():\n",
    "                \n",
    "                state = torch.Tensor(state).to(device)\n",
    "                q_values = self.dqn(state)\n",
    "                action = torch.max(q_values,0)[1]\n",
    "                action = action.item()        \n",
    "        else:\n",
    "            action = env.action_space.sample()\n",
    "        \n",
    "        return action\n",
    "    \n",
    "    def optimize(self):\n",
    "        \n",
    "        if (BATCH_SIZE > len(memory)):\n",
    "            return\n",
    "        \n",
    "        state, action, new_state, reward, done = memory.sample(BATCH_SIZE)\n",
    "        \n",
    "        state = torch.Tensor(state).to(device)\n",
    "        new_state = torch.Tensor(new_state).to(device)\n",
    "        reward = torch.Tensor(reward).to(device)\n",
    "        action = torch.LongTensor(action).to(device)\n",
    "        done = torch.Tensor(done).to(device)\n",
    "        \n",
    "        # select action : get the index associated with max q value from prediction network\n",
    "        new_state_indxs = self.dqn(new_state).detach() \n",
    "        max_new_state_indxs = torch.max(new_state_indxs, 1)[1] # to get the max new state indexes\n",
    "        \n",
    "        \n",
    "        # Using the best action from the prediction nn get the max new state value in target dqn\n",
    "        new_state_values = self.target_dqn(new_state).detach()\n",
    "        max_new_state_values = new_state_values.gather(1, max_new_state_indxs.unsqueeze(1)).squeeze(1)\n",
    "        \n",
    "        \n",
    "        target_value = reward + (1 - done) * DISCOUNT_FACTOR * max_new_state_values #when done = 1 then target = reward\n",
    "        \n",
    "        predicted_value = self.dqn(state).gather(1, action.unsqueeze(1)).squeeze(1)\n",
    "        \n",
    "        \n",
    "        loss = self.criterion(predicted_value, target_value)\n",
    "    \n",
    "        self.optimizer.zero_grad()\n",
    "        loss.backward()\n",
    "        self.optimizer.step()\n",
    "        \n",
    "        if self.target_dqn_update_counter % UPDATE_TARGET_FREQUENCY == 0:\n",
    "            self.target_dqn.load_state_dict(self.dqn.state_dict())\n",
    "        \n",
    "        self.target_dqn_update_counter += 1"
   ]
  },
  {
   "cell_type": "code",
   "execution_count": 12,
   "metadata": {
    "colab": {},
    "colab_type": "code",
    "id": "NLTj1P7tnNso"
   },
   "outputs": [],
   "source": [
    "# Instantiating the DQN Agent\n",
    "dqn_agent = DQN_Agent()"
   ]
  },
  {
   "cell_type": "code",
   "execution_count": 13,
   "metadata": {
    "colab": {
     "base_uri": "https://localhost:8080/",
     "height": 1000
    },
    "colab_type": "code",
    "executionInfo": {
     "elapsed": 132682,
     "status": "ok",
     "timestamp": 1586934401261,
     "user": {
      "displayName": "Aritra Sen",
      "photoUrl": "https://lh3.googleusercontent.com/a-/AOh14GiSYFenYhgXJH87pjUx-NhoqI30ZP-OIGh4O5vjpQ=s64",
      "userId": "13202125398367881278"
     },
     "user_tz": -330
    },
    "id": "QjSSkmLpnNs0",
    "outputId": "51bec1ef-f48a-49a2-ed67-53849e88fa42"
   },
   "outputs": [],
   "source": [
    "steps_total = []\n",
    "steps_counter = 0\n",
    "for episode in range(NUMBER_OF_EPISODES):\n",
    "    \n",
    "    state = env.reset()\n",
    "    done = False\n",
    "\n",
    "    step = 0\n",
    "\n",
    "    for i in range(MAX_STEPS):\n",
    "        step += 1\n",
    "        steps_counter += 1\n",
    "        \n",
    "        EGREEDY = calculate_epsilon(steps_counter)\n",
    "\n",
    "        action = dqn_agent.select_action(state, EGREEDY)\n",
    "            \n",
    "        new_state, reward, done, info = env.step(action)\n",
    "\n",
    "        memory.push(state, action, new_state, reward, done)\n",
    "\n",
    "\n",
    "        dqn_agent.optimize()\n",
    "        \n",
    "        state = new_state\n",
    "\n",
    "        if done:\n",
    "            steps_total.append(step)\n",
    "            break"
   ]
  },
  {
   "cell_type": "code",
   "execution_count": 14,
   "metadata": {},
   "outputs": [
    {
     "name": "stdout",
     "output_type": "stream",
     "text": [
      "Average reward: 174.09\n",
      "Average reward (last 100 episodes): 186.06\n"
     ]
    }
   ],
   "source": [
    "print(\"Average reward: %.2f\" % (sum(steps_total)/NUMBER_OF_EPISODES))\n",
    "print(\"Average reward (last 100 episodes): %.2f\" % (sum(steps_total[-100:])/100))"
   ]
  },
  {
   "cell_type": "code",
   "execution_count": 16,
   "metadata": {
    "colab": {
     "base_uri": "https://localhost:8080/",
     "height": 121
    },
    "colab_type": "code",
    "executionInfo": {
     "elapsed": 132676,
     "status": "ok",
     "timestamp": 1586934401262,
     "user": {
      "displayName": "Aritra Sen",
      "photoUrl": "https://lh3.googleusercontent.com/a-/AOh14GiSYFenYhgXJH87pjUx-NhoqI30ZP-OIGh4O5vjpQ=s64",
      "userId": "13202125398367881278"
     },
     "user_tz": -330
    },
    "id": "O2Wb5zU_nNs6",
    "outputId": "2b6ed7e6-5397-41df-e41c-5119c3cf09f3"
   },
   "outputs": [
    {
     "data": {
      "image/png": "[encoded data removed]",
      "text/plain": [
       "<Figure size 864x360 with 1 Axes>"
      ]
     },
     "metadata": {
      "needs_background": "light"
     },
     "output_type": "display_data"
    }
   ],
   "source": [
    "plt.figure(figsize=(12,5))\n",
    "plt.title(\"Rewards Collected\")\n",
    "plt.xlabel('Steps')\n",
    "plt.ylabel('Reward')\n",
    "plt.bar(np.arange(len(steps_total)), steps_total, alpha=0.5, color='green', width=6)\n",
    "plt.show()"
   ]
  },
  {
   "cell_type": "code",
   "execution_count": null,
   "metadata": {},
   "outputs": [],
   "source": []
  }
 ],
 "metadata": {
  "accelerator": "GPU",
  "colab": {
   "collapsed_sections": [],
   "name": "DQN__ExperienceReplay_TargetNetwork.ipynb",
   "provenance": []
  },
  "kernelspec": {
   "display_name": "Python 3",
   "language": "python",
   "name": "python3"
  },
  "language_info": {
   "codemirror_mode": {
    "name": "ipython",
    "version": 3
   },
   "file_extension": ".py",
   "mimetype": "text/x-python",
   "name": "python",
   "nbconvert_exporter": "python",
   "pygments_lexer": "ipython3",
   "version": "3.7.3"
  }
 },
 "nbformat": 4,
 "nbformat_minor": 1
}
